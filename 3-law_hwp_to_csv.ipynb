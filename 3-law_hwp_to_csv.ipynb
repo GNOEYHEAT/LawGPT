{
 "cells": [
  {
   "cell_type": "code",
   "execution_count": 1,
   "id": "99330696-d35a-4ba9-84a8-1a91c3689492",
   "metadata": {},
   "outputs": [],
   "source": [
    "# !pip install olefile"
   ]
  },
  {
   "cell_type": "code",
   "execution_count": 2,
   "id": "f76c5ab9-8847-4ed2-870d-7cc6e365481c",
   "metadata": {},
   "outputs": [],
   "source": [
    "import olefile\n",
    "import zlib\n",
    "import struct\n",
    "\n",
    "def get_hwp_text(filename):\n",
    "    f = olefile.OleFileIO(filename)\n",
    "    dirs = f.listdir()\n",
    "\n",
    "    # HWP 파일 검증\n",
    "    if [\"FileHeader\"] not in dirs or \\\n",
    "       [\"\\x05HwpSummaryInformation\"] not in dirs:\n",
    "        raise Exception(\"Not Valid HWP.\")\n",
    "\n",
    "    # 문서 포맷 압축 여부 확인\n",
    "    header = f.openstream(\"FileHeader\")\n",
    "    header_data = header.read()\n",
    "    is_compressed = (header_data[36] & 1) == 1\n",
    "\n",
    "    # Body Sections 불러오기\n",
    "    nums = []\n",
    "    for d in dirs:\n",
    "        if d[0] == \"BodyText\":\n",
    "            nums.append(int(d[1][len(\"Section\"):]))\n",
    "    sections = [\"BodyText/Section\"+str(x) for x in sorted(nums)]\n",
    "\n",
    "    # 전체 text 추출\n",
    "    text = \"\"\n",
    "    for section in sections:\n",
    "        bodytext = f.openstream(section)\n",
    "        data = bodytext.read()\n",
    "        if is_compressed:\n",
    "            unpacked_data = zlib.decompress(data, -15)\n",
    "        else:\n",
    "            unpacked_data = data\n",
    "    \n",
    "        # 각 Section 내 text 추출    \n",
    "        section_text = \"\"\n",
    "        i = 0\n",
    "        size = len(unpacked_data)\n",
    "        while i < size:\n",
    "            header = struct.unpack_from(\"<I\", unpacked_data, i)[0]\n",
    "            rec_type = header & 0x3ff\n",
    "            rec_len = (header >> 20) & 0xfff\n",
    "\n",
    "            if rec_type in [67]:\n",
    "                rec_data = unpacked_data[i+4:i+4+rec_len]\n",
    "                section_text += rec_data.decode('utf-16')\n",
    "                section_text += \"\\n\"\n",
    "\n",
    "            i += 4 + rec_len\n",
    "\n",
    "        text += section_text\n",
    "        text += \"\\n\"\n",
    "\n",
    "    return text"
   ]
  },
  {
   "cell_type": "code",
   "execution_count": 3,
   "id": "2f32b654-1900-47cd-a477-4eb75184b207",
   "metadata": {},
   "outputs": [],
   "source": [
    "import os\n",
    "pathlist = [\"data/raw/law\"]\n",
    "\n",
    "res = []\n",
    "for path in pathlist:\n",
    "    for root, dirs, files in os.walk(path):\n",
    "        for file in files:\n",
    "            filepath = os.path.join(root, file)\n",
    "            res.append(filepath) "
   ]
  },
  {
   "cell_type": "code",
   "execution_count": 4,
   "id": "6e800345-b57c-4d85-80ed-7913207a7e09",
   "metadata": {},
   "outputs": [
    {
     "data": {
      "text/plain": [
       "['data/raw/law\\\\가등기담보 등에 관한 법률(법률)(제14474호)(20170328).hwp',\n",
       " 'data/raw/law\\\\민법(인용조문 3단비교).hwp',\n",
       " 'data/raw/law\\\\민사소송법(인용조문 3단비교).hwp',\n",
       " 'data/raw/law\\\\민사집행법(인용조문 3단비교).hwp',\n",
       " 'data/raw/law\\\\부동산 실권리자명의 등기에 관한 법률(인용조문 3단비교).hwp',\n",
       " 'data/raw/law\\\\부동산등기법(인용조문 3단비교).hwp',\n",
       " 'data/raw/law\\\\주민등록법(인용조문 3단비교).hwp',\n",
       " 'data/raw/law\\\\주택임대차보호법(인용조문 3단비교).hwp',\n",
       " 'data/raw/law\\\\지방자치법(인용조문 3단비교).hwp',\n",
       " 'data/raw/law\\\\집합건물의 소유 및 관리에 관한 법률(인용조문 3단비교).hwp',\n",
       " 'data/raw/law\\\\채무자 회생 및 파산에 관한 법률(인용조문 3단비교).hwp']"
      ]
     },
     "execution_count": 4,
     "metadata": {},
     "output_type": "execute_result"
    }
   ],
   "source": [
    "res"
   ]
  },
  {
   "cell_type": "code",
   "execution_count": 5,
   "id": "771a1d4f-1098-4b2a-b292-d672a4708889",
   "metadata": {},
   "outputs": [
    {
     "data": {
      "text/plain": [
       "['data/raw/law\\\\가등기담보 등에 관한 법률(법률)(제14474호)(20170328).hwp',\n",
       " 'data/raw/law\\\\민법(인용조문 3단비교).hwp']"
      ]
     },
     "execution_count": 5,
     "metadata": {},
     "output_type": "execute_result"
    }
   ],
   "source": [
    "res = res[:2]\n",
    "res"
   ]
  },
  {
   "cell_type": "code",
   "execution_count": 6,
   "id": "d38439b2-f396-48bf-9ada-bc745d9ecf52",
   "metadata": {},
   "outputs": [
    {
     "data": {
      "text/html": [
       "<div>\n",
       "<style scoped>\n",
       "    .dataframe tbody tr th:only-of-type {\n",
       "        vertical-align: middle;\n",
       "    }\n",
       "\n",
       "    .dataframe tbody tr th {\n",
       "        vertical-align: top;\n",
       "    }\n",
       "\n",
       "    .dataframe thead th {\n",
       "        text-align: right;\n",
       "    }\n",
       "</style>\n",
       "<table border=\"1\" class=\"dataframe\">\n",
       "  <thead>\n",
       "    <tr style=\"text-align: right;\">\n",
       "      <th></th>\n",
       "      <th>law</th>\n",
       "    </tr>\n",
       "  </thead>\n",
       "  <tbody>\n",
       "    <tr>\n",
       "      <th>0</th>\n",
       "      <td>\u0002捤獥\u0000\u0000\u0000\u0000\u0002\u0002汤捯\u0000\u0000\u0000\u0000\u0002\u000b",
       "漠杳\u0000\u0000\u0000\u0000\u000b",
       "\u0003浫╢\u0000\u0000\u0000\u0000\u0003</td>\n",
       "    </tr>\n",
       "    <tr>\n",
       "      <th>1</th>\n",
       "      <td>가등기담보 등에 관한 법률 ( 약칭: 가등기담보법 )\u0004浫ɢ\u0000\u0000\u0000\u0000\u0004</td>\n",
       "    </tr>\n",
       "    <tr>\n",
       "      <th>2</th>\n",
       "      <td>\u0010慤桥\u0000\u0000\u0000\u0000\u0010\u0010潴景\u0000\u0000\u0000\u0000\u0010[시행 2017. 3. 28.] [법률 제14474호,...</td>\n",
       "    </tr>\n",
       "    <tr>\n",
       "      <th>3</th>\n",
       "      <td>氠瑢\u0000\u0000\u0000\u0000</td>\n",
       "    </tr>\n",
       "    <tr>\n",
       "      <th>4</th>\n",
       "      <td>가등기담보 등에 관한 법률</td>\n",
       "    </tr>\n",
       "    <tr>\n",
       "      <th>...</th>\n",
       "      <td>...</td>\n",
       "    </tr>\n",
       "    <tr>\n",
       "      <th>2329</th>\n",
       "      <td>[본조신설 1977. 12. 31.]</td>\n",
       "    </tr>\n",
       "    <tr>\n",
       "      <th>2330</th>\n",
       "      <td>제1116조(반환의 순서) 증여에 대하여는 유증을 반환받은 후가 아니면 이것을 청구...</td>\n",
       "    </tr>\n",
       "    <tr>\n",
       "      <th>2331</th>\n",
       "      <td>제1117조(소멸시효) 반환의 청구권은 유류분권리자가 상속의 개시와 반환하여야 할 ...</td>\n",
       "    </tr>\n",
       "    <tr>\n",
       "      <th>2332</th>\n",
       "      <td>제1118조(준용규정) 제1001조, 제1008조, 제1010조의 규정은 유류분에 ...</td>\n",
       "    </tr>\n",
       "    <tr>\n",
       "      <th>2333</th>\n",
       "      <td>\\n</td>\n",
       "    </tr>\n",
       "  </tbody>\n",
       "</table>\n",
       "<p>2334 rows × 1 columns</p>\n",
       "</div>"
      ],
      "text/plain": [
       "                                                    law\n",
       "0                      \u0002捤獥\u0000\u0000\u0000\u0000\u0002\u0002汤捯\u0000\u0000\u0000\u0000\u0002\n",
       "漠杳\u0000\u0000\u0000\u0000\n",
       "\u0003浫╢\u0000\u0000\u0000\u0000\u0003\n",
       "1                 가등기담보 등에 관한 법률 ( 약칭: 가등기담보법 )\u0004浫ɢ\u0000\u0000\u0000\u0000\u0004\n",
       "2     \u0010慤桥\u0000\u0000\u0000\u0000\u0010\u0010潴景\u0000\u0000\u0000\u0000\u0010[시행 2017. 3. 28.] [법률 제14474호,...\n",
       "3                                              \n",
       "氠瑢\u0000\u0000\u0000\u0000\n",
       "\n",
       "4                                        가등기담보 등에 관한 법률\n",
       "...                                                 ...\n",
       "2329                               [본조신설 1977. 12. 31.]\n",
       "2330  제1116조(반환의 순서) 증여에 대하여는 유증을 반환받은 후가 아니면 이것을 청구...\n",
       "2331  제1117조(소멸시효) 반환의 청구권은 유류분권리자가 상속의 개시와 반환하여야 할 ...\n",
       "2332  제1118조(준용규정) 제1001조, 제1008조, 제1010조의 규정은 유류분에 ...\n",
       "2333                                                 \\n\n",
       "\n",
       "[2334 rows x 1 columns]"
      ]
     },
     "execution_count": 6,
     "metadata": {},
     "output_type": "execute_result"
    }
   ],
   "source": [
    "import pandas as pd\n",
    "\n",
    "def hwp_to_df(res):\n",
    "    temp = []\n",
    "    for i in range(len(res)):\n",
    "        text = get_hwp_text(res[i])\n",
    "        temp += text.split(\"\\r\\n\")\n",
    "    df = pd.DataFrame(temp, columns=[\"law\"])\n",
    "    return df\n",
    "\n",
    "text = hwp_to_df(res)\n",
    "text"
   ]
  },
  {
   "cell_type": "code",
   "execution_count": 7,
   "id": "b2deed6c-4dc1-4c45-a8d0-308531a5fbc7",
   "metadata": {},
   "outputs": [],
   "source": [
    "text.to_csv(\"data/law_preprocess.csv\", index=False)"
   ]
  }
 ],
 "metadata": {
  "kernelspec": {
   "display_name": "Python 3 (ipykernel)",
   "language": "python",
   "name": "python3"
  },
  "language_info": {
   "codemirror_mode": {
    "name": "ipython",
    "version": 3
   },
   "file_extension": ".py",
   "mimetype": "text/x-python",
   "name": "python",
   "nbconvert_exporter": "python",
   "pygments_lexer": "ipython3",
   "version": "3.9.0"
  }
 },
 "nbformat": 4,
 "nbformat_minor": 5
}
