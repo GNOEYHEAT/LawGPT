{
 "cells": [
  {
   "cell_type": "code",
   "execution_count": 1,
   "id": "9a02caa3-0166-4653-8940-7048c299fbae",
   "metadata": {},
   "outputs": [
    {
     "data": {
      "text/html": [
       "<div>\n",
       "<style scoped>\n",
       "    .dataframe tbody tr th:only-of-type {\n",
       "        vertical-align: middle;\n",
       "    }\n",
       "\n",
       "    .dataframe tbody tr th {\n",
       "        vertical-align: top;\n",
       "    }\n",
       "\n",
       "    .dataframe thead th {\n",
       "        text-align: right;\n",
       "    }\n",
       "</style>\n",
       "<table border=\"1\" class=\"dataframe\">\n",
       "  <thead>\n",
       "    <tr style=\"text-align: right;\">\n",
       "      <th></th>\n",
       "      <th>판시사항</th>\n",
       "      <th>판결요지</th>\n",
       "    </tr>\n",
       "  </thead>\n",
       "  <tbody>\n",
       "    <tr>\n",
       "      <th>0</th>\n",
       "      <td>[1] 매도인이 악의인 계약명의신탁의 명의수탁자로부터 명의신탁의 목적물인 주택을 임...</td>\n",
       "      <td>[1] 매도인이 악의인 계약명의신탁에서 명의수탁자로부터 명의신탁의 목적물인 주택을 ...</td>\n",
       "    </tr>\n",
       "    <tr>\n",
       "      <th>1</th>\n",
       "      <td>임차인이 주택임대차보호법 제6조의3 제1항 본문에 따라 계약갱신을 요구하였더라도 임...</td>\n",
       "      <td>주택임대차보호법 제6조, 제6조의3 등 관련 규정의 내용과 체계, 입법 취지 등을 ...</td>\n",
       "    </tr>\n",
       "    <tr>\n",
       "      <th>2</th>\n",
       "      <td>[1] 대지에 관한 저당권 설정 후 건물이 신축되고 그 신축건물에 다시 저당권이 설...</td>\n",
       "      <td>[1] 대지에 관한 저당권 설정 후에 비로소 건물이 신축되고 그 신축건물에 대하여 ...</td>\n",
       "    </tr>\n",
       "    <tr>\n",
       "      <th>3</th>\n",
       "      <td>전세권과 임차권의 차이점 추신영 동방문화사전세권과 주택임대차의 대항력과 우선변제권 ...</td>\n",
       "      <td>- 전세권과 임차권의 차이점 (판례강의) 계약법 / 동방문화사 2015 오경미 채권...</td>\n",
       "    </tr>\n",
       "    <tr>\n",
       "      <th>4</th>\n",
       "      <td>가. 구 주택임대차보호법 (1981.3.5. 법률 제3379호) 부칙 제2항 단서에...</td>\n",
       "      <td>가. 구 주택임대차보호법 (1981.3.5. 법률 제3379호) 부칙 제2항 단서는...</td>\n",
       "    </tr>\n",
       "  </tbody>\n",
       "</table>\n",
       "</div>"
      ],
      "text/plain": [
       "                                                판시사항   \n",
       "0  [1] 매도인이 악의인 계약명의신탁의 명의수탁자로부터 명의신탁의 목적물인 주택을 임...  \\\n",
       "1  임차인이 주택임대차보호법 제6조의3 제1항 본문에 따라 계약갱신을 요구하였더라도 임...   \n",
       "2  [1] 대지에 관한 저당권 설정 후 건물이 신축되고 그 신축건물에 다시 저당권이 설...   \n",
       "3  전세권과 임차권의 차이점 추신영 동방문화사전세권과 주택임대차의 대항력과 우선변제권 ...   \n",
       "4  가. 구 주택임대차보호법 (1981.3.5. 법률 제3379호) 부칙 제2항 단서에...   \n",
       "\n",
       "                                                판결요지  \n",
       "0  [1] 매도인이 악의인 계약명의신탁에서 명의수탁자로부터 명의신탁의 목적물인 주택을 ...  \n",
       "1  주택임대차보호법 제6조, 제6조의3 등 관련 규정의 내용과 체계, 입법 취지 등을 ...  \n",
       "2  [1] 대지에 관한 저당권 설정 후에 비로소 건물이 신축되고 그 신축건물에 대하여 ...  \n",
       "3  - 전세권과 임차권의 차이점 (판례강의) 계약법 / 동방문화사 2015 오경미 채권...  \n",
       "4  가. 구 주택임대차보호법 (1981.3.5. 법률 제3379호) 부칙 제2항 단서는...  "
      ]
     },
     "execution_count": 1,
     "metadata": {},
     "output_type": "execute_result"
    }
   ],
   "source": [
    "import pandas as pd\n",
    "\n",
    "df = pd.read_csv(\"data/raw/precedent.csv\")\n",
    "\n",
    "df[\"판시사항\"] = df[\"판시사항\"].apply(lambda x : ''.join(x.split(\"\\r\\n\")).strip())\n",
    "df[\"판결요지\"] = df[\"판결요지\"].apply(lambda x : ''.join(x.split(\"\\r\\n\")).strip())\n",
    "df[\"참조조문\"] = df[\"참조조문\"].apply(lambda x : ''.join(x.split(\"\\r\\n\")).strip())\n",
    "\n",
    "df = df[[\"판시사항\", \"판결요지\"]]\n",
    "\n",
    "df[\"판시사항\"] = df[\"판시사항\"].apply(lambda x : None if x=='' else x)\n",
    "df[\"판결요지\"] = df[\"판결요지\"].apply(lambda x : None if x=='' else x)\n",
    "\n",
    "df = df[[\"판시사항\", \"판결요지\"]].dropna().reset_index(drop=True)\n",
    "\n",
    "df[\"판시사항\"] = df[\"판시사항\"].apply(lambda x : ' '.join(x.split()))\n",
    "df[\"판결요지\"] = df[\"판결요지\"].apply(lambda x : ' '.join(x.split()))\n",
    "\n",
    "df.to_csv(\"data/precedent_preprocess.csv\", index=False)\n",
    "\n",
    "df.head()"
   ]
  }
 ],
 "metadata": {
  "kernelspec": {
   "display_name": "Python 3 (ipykernel)",
   "language": "python",
   "name": "python3"
  },
  "language_info": {
   "codemirror_mode": {
    "name": "ipython",
    "version": 3
   },
   "file_extension": ".py",
   "mimetype": "text/x-python",
   "name": "python",
   "nbconvert_exporter": "python",
   "pygments_lexer": "ipython3",
   "version": "3.9.0"
  }
 },
 "nbformat": 4,
 "nbformat_minor": 5
}
